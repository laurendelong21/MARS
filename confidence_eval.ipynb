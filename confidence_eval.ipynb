{
 "cells": [
  {
   "cell_type": "code",
   "execution_count": 11,
   "metadata": {},
   "outputs": [],
   "source": [
    "import json"
   ]
  },
  {
   "cell_type": "code",
   "execution_count": 12,
   "metadata": {},
   "outputs": [],
   "source": [
    "with open('datasets/FB15K-237/rules.txt', 'r') as f:\n",
    "    og_rules = json.load(f)"
   ]
  },
  {
   "cell_type": "code",
   "execution_count": 13,
   "metadata": {},
   "outputs": [],
   "source": [
    "with open('/home/lauren/PoLo/output/FB15k-237/12Jul23_175322_p3_r3.0_e32_h32_L1_l0.0015_o1/confidences.txt', 'r') as f:\n",
    "    new_rules = json.load(f)"
   ]
  },
  {
   "cell_type": "code",
   "execution_count": 14,
   "metadata": {},
   "outputs": [
    {
     "data": {
      "text/plain": [
       "False"
      ]
     },
     "execution_count": 14,
     "metadata": {},
     "output_type": "execute_result"
    }
   ],
   "source": [
    "og_rules == new_rules"
   ]
  },
  {
   "cell_type": "code",
   "execution_count": 15,
   "metadata": {},
   "outputs": [
    {
     "data": {
      "text/plain": [
       "['0.128',\n",
       " '/award/award_winning_work/awards_won./award/award_honor/award_winner',\n",
       " '_/award/award_nominee/award_nominations./award/award_nomination/nominated_for',\n",
       " '/award/award_nominee/award_nominations./award/award_nomination/award_nominee']"
      ]
     },
     "execution_count": 15,
     "metadata": {},
     "output_type": "execute_result"
    }
   ],
   "source": [
    "og_rules['/award/award_winning_work/awards_won./award/award_honor/award_winner'][132]"
   ]
  },
  {
   "cell_type": "code",
   "execution_count": 16,
   "metadata": {},
   "outputs": [
    {
     "data": {
      "text/plain": [
       "['0.13672',\n",
       " '/award/award_winning_work/awards_won./award/award_honor/award_winner',\n",
       " '_/award/award_nominee/award_nominations./award/award_nomination/nominated_for',\n",
       " '/award/award_nominee/award_nominations./award/award_nomination/award_nominee']"
      ]
     },
     "execution_count": 16,
     "metadata": {},
     "output_type": "execute_result"
    }
   ],
   "source": [
    "new_rules['/award/award_winning_work/awards_won./award/award_honor/award_winner'][132]"
   ]
  }
 ],
 "metadata": {
  "kernelspec": {
   "display_name": "mln_env",
   "language": "python",
   "name": "mln_env"
  },
  "language_info": {
   "codemirror_mode": {
    "name": "ipython",
    "version": 3
   },
   "file_extension": ".py",
   "mimetype": "text/x-python",
   "name": "python",
   "nbconvert_exporter": "python",
   "pygments_lexer": "ipython3",
   "version": "3.6.9"
  },
  "orig_nbformat": 4
 },
 "nbformat": 4,
 "nbformat_minor": 2
}
